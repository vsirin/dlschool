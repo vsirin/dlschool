{
 "cells": [
  {
   "cell_type": "markdown",
   "metadata": {
    "colab_type": "text",
    "id": "YGMJ9YTp9i-F"
   },
   "source": [
    "<img src=\"https://s8.hostingkartinok.com/uploads/images/2018/08/308b49fcfbc619d629fe4604bceb67ac.jpg\" width=500, height=450>\n",
    "<h3 style=\"text-align: center;\"><b>Физтех-Школа Прикладной математики и информатики (ФПМИ) МФТИ</b></h3>"
   ]
  },
  {
   "cell_type": "markdown",
   "metadata": {
    "colab_type": "text",
    "id": "DY1jghel9i-G"
   },
   "source": [
    "---"
   ]
  },
  {
   "cell_type": "markdown",
   "metadata": {
    "colab_type": "text",
    "id": "W12dfswC9i-H"
   },
   "source": [
    "<h2 style=\"text-align: center;\"><b>Перцептрон и нейрон: решения</b></h2>"
   ]
  },
  {
   "cell_type": "markdown",
   "metadata": {
    "colab_type": "text",
    "id": "Zg_xBGK99i-I"
   },
   "source": [
    "---"
   ]
  },
  {
   "cell_type": "markdown",
   "metadata": {
    "colab_type": "text",
    "id": "xXpfHfuX39hQ"
   },
   "source": [
    "<h2 style=\"text-align: center;\"><b>Перцептрон Розенблатта (нейрон с пороговой функцией активации)</b></h2>"
   ]
  },
  {
   "cell_type": "markdown",
   "metadata": {
    "colab_type": "text",
    "id": "gKD68XgD9i-J"
   },
   "source": [
    "В данном задании Вам нужно будет: \n",
    "- самостоятельно реализовать класс **`Perceptron()`** -- нейрон пороговой функцией активации\n",
    "- обучить и протестировать Ваш перцептрон на сгенерированных и реальных данных (файлы с реальными данными помещены в папку /data в этой же директории)\n",
    "- сравнить качество работы Вашего класса с классом из библиотеки `scikit-learn` (`sklearn.linear_model.Perceptron()`)"
   ]
  },
  {
   "cell_type": "markdown",
   "metadata": {
    "colab_type": "text",
    "id": "W3y5PIV89i-J"
   },
   "source": [
    "<h3 style=\"text-align: center;\"><b>Введение</b></h3>"
   ]
  },
  {
   "cell_type": "markdown",
   "metadata": {
    "colab_type": "text",
    "id": "FO7GuLZq9i-K"
   },
   "source": [
    "Почти любой алгоритм машинного обучения, решающий задачу *классификации* или *регрессии*, работает так:\n",
    "\n",
    "1. (*стадия инициализации*) Задаются его **гиперпараметры**, то есть те величины, которые не \"выучиваются\" алгоритмом в процессе обучения самостоятельно \n",
    "2. (*стадия обучения*) Алгоритм запускается на данных, **обучаясь** на них и меняя свои **параметры** (не путать с *гипер*параметрами) каким-то определённым образом (например, с помощью *метода градиентного спуска*), исходя из функции потерь (её называют *loss function*). Функция потерь, по сути, говорит, где и как ошибается модель\n",
    "3.  (*стадия предсказания*) Модель готова, и теперь с помощью неё можно делать **предсказания** на новых объектах"
   ]
  },
  {
   "cell_type": "code",
   "execution_count": 0,
   "metadata": {
    "colab": {},
    "colab_type": "code",
    "collapsed": true,
    "id": "rjXJZnV49i-K"
   },
   "outputs": [],
   "source": [
    "from matplotlib import pyplot as plt\n",
    "from matplotlib.colors import ListedColormap  # тут лежат разные штуки для цветовой магии\n",
    "import numpy as np\n",
    "import pandas as pd"
   ]
  },
  {
   "cell_type": "markdown",
   "metadata": {
    "colab_type": "text",
    "id": "cQmfbBVQ9i-M"
   },
   "source": [
    "<h3 style=\"text-align: center;\"><b>Класс Perceptron</b></h3>"
   ]
  },
  {
   "cell_type": "markdown",
   "metadata": {
    "colab_type": "text",
    "id": "Ak5NQR6x9i-N"
   },
   "source": [
    "В даном разделе будет решаться задача **бинарной классификации** с помощью перцептрона:  \n",
    "- *Входные данные*: матрица $X$ размера $(n, m)$ и столбец $y$ из нулей и единиц размера $(n, 1)$. Строкам матрицы соответствуют объекты, столбцам - признаки (то есть строка $i$ есть набор признаков (*признаковое описание*) объекта $x_i$).\n",
    "- *Выходные данные*: столбец $\\hat{y}$ из нулей и единиц размера $(n, 1)$ - предсказания алгоритма."
   ]
  },
  {
   "cell_type": "markdown",
   "metadata": {
    "colab_type": "text",
    "id": "cfkJHz_x9i-O"
   },
   "source": [
    "Модель нейрона в биологии и в deep learning:  \n",
    "\n",
    "![title](http://lamda.nju.edu.cn/weixs/project/CNNTricks/imgs/neuron.png)"
   ]
  },
  {
   "cell_type": "markdown",
   "metadata": {
    "colab_type": "text",
    "id": "P3Zupeel9i-P"
   },
   "source": [
    "Чтобы понять, как мы будем обновлять параметры модели (веса), нужно знать, какую функцию потерь мы оптимизируем (находим минимум). В данном случае мы решаем задачу бинарной классификации (2 класса: 1 или 0), возьмём в качестве функции потерь среднеквадратичную ошибку:  \n",
    "\n",
    "$$Loss(\\hat{y}, y) = \\frac{1}{2n}\\sum_{i=1}^{n} (\\hat{y_i} - y_i)^2 = \\frac{1}{2n}\\sum_{i=1}^{n} (f(w \\cdot X_i) - y_i)^2$$  \n",
    "\n",
    "Здесь $w \\cdot X_i$ - скалярное произведение, а $f(w \\cdot X_i)$ - пороговая функция:  \n",
    "\n",
    "$$\n",
    "f(z) =\n",
    "\\begin{cases}\n",
    "1, &\\text{если } w \\cdot X_i > 0 \\\\\n",
    "0, &\\text{если } w \\cdot X_i \\le 0\n",
    "\\end{cases}\n",
    "$$  \n",
    "\n",
    "**Примечание:** В формуле предполагается, что $b$ - свободный член - является частью вектора весов: $w_0$. Тогда, если к $X$ приписать слева единичный столбец, в скалярном произведении $b$ будет именно как свободный член (лучше распиишите это -- сте=анет понятнее). При реализации класса $b$ нужно считать отдельно (чтобы было нагляднее)."
   ]
  },
  {
   "cell_type": "markdown",
   "metadata": {
    "colab_type": "text",
    "id": "IVeyEebY9i-P"
   },
   "source": [
    "** Реализуйте функцию потерь $Loss$: **"
   ]
  },
  {
   "cell_type": "code",
   "execution_count": 0,
   "metadata": {
    "colab": {},
    "colab_type": "code",
    "collapsed": true,
    "id": "MDou_FgO9i-Q"
   },
   "outputs": [],
   "source": [
    "def Loss(y_pred, y):\n",
    "    y_pred = y_pred.reshape(-1, 1)\n",
    "    y = np.array(y).reshape(-1, 1)\n",
    "    return 0.5 * np.mean((y_pred - y) ** 2)"
   ]
  },
  {
   "cell_type": "markdown",
   "metadata": {
    "colab_type": "text",
    "id": "y_l1v9VN9i-T"
   },
   "source": [
    "Поскольку у *пороговой функции* не существует производной (Вы её график видели? Выглядит он, конечно, простым, но производная таких не любит), то мы не можем использовать градиентный спуск, ведь:  \n",
    "\n",
    "$$ \\frac{\\partial Loss}{\\partial w} = \\frac{1}{n} X^T\\left(f(w \\cdot X) - y\\right)f'(w \\cdot X)$$  \n",
    "\n",
    "где $f^{'}(w \\cdot X)$ - посчитать не получится. Но ведь хочется как-то обновлять веса, иначе как обучить алгоритм отличать груши от яблок?  \n",
    "\n",
    "Поэтому предлагается обновлять так:   \n",
    "\n",
    "$$w^{j+1} = w^{j} - \\alpha\\Delta{w^{j}}$$ \n",
    "\n",
    "где:  \n",
    "\n",
    "$$\\Delta{w} = \\frac{1}{n}X^T(\\hat{y} - y) = \\frac{1}{n}X^T(f(w^j \\cdot X) - y)$$  \n",
    "\n",
    "(не забудьте, что при $w_0 = b$ признак $x_0$ = 1), где $w \\cdot X$ - матричное произведение столбца весов $w$ на матрицу объектов-признаков $X$, а индекс $j$ -- номер итерации градиентного спуска.\n",
    "\n",
    "Это правило является неким частным случаем градиентного спуска для данного случая (*[правило Хебба](https://ru.wikipedia.org/wiki/%D0%94%D0%B5%D0%BB%D1%8C%D1%82%D0%B0-%D0%BF%D1%80%D0%B0%D0%B2%D0%B8%D0%BB%D0%BE)*, *[метод коррекции ошибки](https://ru.wikipedia.org/wiki/%D0%9C%D0%B5%D1%82%D0%BE%D0%B4_%D0%BA%D0%BE%D1%80%D1%80%D0%B5%D0%BA%D1%86%D0%B8%D0%B8_%D0%BE%D1%88%D0%B8%D0%B1%D0%BA%D0%B8)*)."
   ]
  },
  {
   "cell_type": "markdown",
   "metadata": {
    "colab_type": "text",
    "id": "qgqZIHrA9i-T"
   },
   "source": [
    "Теперь, вооружившись всеми формулами и силой духа, нужно написать свой класс **`Perceptron()`**. Уже есть код класса и немного кода реализации. По-максимуму используйте **Numpy** при реализации, т.к. будет проверяться и скорость работы Вашего алгоритма.  \n",
    "\n",
    "*Примечание*: В коде ниже `y_pred` - это $\\hat{y}$ из формул выше"
   ]
  },
  {
   "cell_type": "code",
   "execution_count": 0,
   "metadata": {
    "colab": {},
    "colab_type": "code",
    "collapsed": true,
    "id": "MhSX4egM9i-U"
   },
   "outputs": [],
   "source": [
    "class Perceptron:\n",
    "    def __init__(self, w=None, b=0):\n",
    "        \"\"\"\n",
    "        :param: w -- вектор весов\n",
    "        :param: b -- смещение\n",
    "        \"\"\"\n",
    "        # Пока что мы не знаем размер матрицы X, а значит не знаем, сколько будет весов\n",
    "        self.w = w\n",
    "        self.b = b\n",
    "        \n",
    "    def activate(self, x):\n",
    "        return np.array(x > 0, dtype=np.int64)\n",
    "        \n",
    "    def forward_pass(self, X):\n",
    "        \"\"\"\n",
    "        Эта функция рассчитывает ответ перцептрона при предъявлении набора объектов\n",
    "        :param: X -- матрица объектов размера (n, m), каждая строка - отдельный объект\n",
    "        :return: вектор размера (n, 1) из нулей и единиц с ответами перцептрона \n",
    "        \"\"\"\n",
    "        n = X.shape[0]\n",
    "        y_pred = np.zeros((n, 1))  # y_pred == y_predicted - предсказанные классы\n",
    "        y_pred = self.activate(X @ self.w.reshape(X.shape[1], 1) + self.b)\n",
    "        return y_pred.reshape(-1, 1)\n",
    "    \n",
    "    def backward_pass(self, X, y, y_pred, learning_rate=0.005):\n",
    "        \"\"\"\n",
    "        Обновляет значения весов перцептрона в соответствии с этим объектом\n",
    "        :param: X -- матрица объектов размера (n, m)\n",
    "                y -- вектор правильных ответов размера (n, 1)\n",
    "                learning_rate - \"скорость обучения\" (символ alpha в формулах выше)\n",
    "        В этом методе ничего возвращать не нужно, только правильно поменять веса\n",
    "        с помощью градиентного спуска.\n",
    "        \"\"\"\n",
    "        n = len(y)\n",
    "        y = np.array(y).reshape(-1, 1)\n",
    "        self.w = self.w - learning_rate * (X.T @ (y_pred - y) / n)\n",
    "        self.b = self.b - learning_rate * np.mean(y_pred - y)\n",
    "    \n",
    "    def fit(self, X, y, num_epochs=300):\n",
    "        \"\"\"\n",
    "        Спускаемся в минимум\n",
    "        :param: X -- матрица объектов размера (n, m)\n",
    "                y -- вектор правильных ответов размера (n, 1)\n",
    "                num_epochs -- количество итераций обучения\n",
    "        :return: losses -- вектор значений функции потерь\n",
    "        \"\"\"\n",
    "        self.w = np.zeros((X.shape[1], 1))  # столбец (m, 1)\n",
    "        self.b = 0  # смещение\n",
    "        losses = []  # значения функции потерь на различных итерациях обновления весов\n",
    "        \n",
    "        for i in range(num_epochs):\n",
    "            # предсказания с текущими весами\n",
    "            y_pred = self.forward_pass(X)\n",
    "            # считаем функцию потерь с текущими весами\n",
    "            losses.append(Loss(y_pred, y))\n",
    "            # обновляем веса в соответсвие с тем, где ошиблись раньше\n",
    "            self.backward_pass(X, y, y_pred)\n",
    "\n",
    "        return losses"
   ]
  },
  {
   "cell_type": "markdown",
   "metadata": {
    "colab_type": "text",
    "id": "mFc3AWcp9i-W"
   },
   "source": [
    "Класс готов. Посмотрим, правильно ли ведёт себя наш перцептрон. Далее идут несколько ячеек с тестовым кодом, нужно просто запустить их и проверить, чтобы результаты запуска совпадали с соответствующими числами из таблиц:"
   ]
  },
  {
   "cell_type": "markdown",
   "metadata": {
    "colab_type": "text",
    "id": "G0Pn7d6j9i-b"
   },
   "source": [
    "**Проверка forward_pass()**"
   ]
  },
  {
   "cell_type": "code",
   "execution_count": 4,
   "metadata": {
    "colab": {
     "base_uri": "https://localhost:8080/",
     "height": 70
    },
    "colab_type": "code",
    "executionInfo": {
     "elapsed": 613,
     "status": "ok",
     "timestamp": 1539421676337,
     "user": {
      "displayName": "Григорий Лелейтнер",
      "photoUrl": "",
      "userId": "07179937308049589303"
     },
     "user_tz": -300
    },
    "id": "_pyxi7AC9i-d",
    "outputId": "78110899-c676-4909-801d-8df1228059b9"
   },
   "outputs": [
    {
     "name": "stdout",
     "output_type": "stream",
     "text": [
      "y_pred = [[1]\n",
      " [1]\n",
      " [0]]\n"
     ]
    }
   ],
   "source": [
    "import numpy as np\n",
    "w = np.array([1., 2.]).reshape(2, 1)\n",
    "b = 2.\n",
    "X = np.array([[1., 3.],\n",
    "              [2., 4.],\n",
    "              [-1., -3.2]])\n",
    "\n",
    "perceptron = Perceptron(w, b)\n",
    "y_pred = perceptron.forward_pass(X)\n",
    "print (\"y_pred = \" + str(y_pred))"
   ]
  },
  {
   "cell_type": "markdown",
   "metadata": {
    "colab_type": "text",
    "id": "N9e0bx859i-h"
   },
   "source": [
    "|Должно быть||\n",
    "|------|-------|\n",
    "|**y_pred**|[1, 1, 0]|"
   ]
  },
  {
   "cell_type": "markdown",
   "metadata": {
    "colab_type": "text",
    "id": "YVlx8prE9i-j"
   },
   "source": [
    "**Проверка backward_pass()**"
   ]
  },
  {
   "cell_type": "code",
   "execution_count": 0,
   "metadata": {
    "colab": {},
    "colab_type": "code",
    "collapsed": true,
    "id": "Dk0TetOg9i-j"
   },
   "outputs": [],
   "source": [
    "y = np.array([1, 0, 1]).reshape(3, 1)"
   ]
  },
  {
   "cell_type": "code",
   "execution_count": 6,
   "metadata": {
    "colab": {
     "base_uri": "https://localhost:8080/",
     "height": 70
    },
    "colab_type": "code",
    "executionInfo": {
     "elapsed": 604,
     "status": "ok",
     "timestamp": 1539421680571,
     "user": {
      "displayName": "Григорий Лелейтнер",
      "photoUrl": "",
      "userId": "07179937308049589303"
     },
     "user_tz": -300
    },
    "id": "TBxVqMUH9i-l",
    "outputId": "8f3f7510-e1b3-49a5-8138-c8108665d61c"
   },
   "outputs": [
    {
     "name": "stdout",
     "output_type": "stream",
     "text": [
      "w = [[0.995]\n",
      " [1.988]]\n",
      "b = 2.0\n"
     ]
    }
   ],
   "source": [
    "perceptron.backward_pass(X, y, y_pred)\n",
    "\n",
    "print (\"w = \" + str(perceptron.w))\n",
    "print (\"b = \" + str(perceptron.b))"
   ]
  },
  {
   "cell_type": "markdown",
   "metadata": {
    "colab_type": "text",
    "id": "p30BjxNZ9i-o"
   },
   "source": [
    "|Должно быть||\n",
    "|-|-|\n",
    "|**w**| [[ 0.995], [1.988]] |\n",
    "|**b**| 2.0 |"
   ]
  },
  {
   "cell_type": "markdown",
   "metadata": {
    "colab_type": "text",
    "id": "Od3RtPgH9i-p"
   },
   "source": [
    "Посмотрим, как меняется функция потерь в течение процесса обучения на реальных данных - датасет \"Яблоки и Груши\" из лекции:"
   ]
  },
  {
   "cell_type": "code",
   "execution_count": 7,
   "metadata": {
    "colab": {
     "base_uri": "https://localhost:8080/",
     "height": 878
    },
    "colab_type": "code",
    "executionInfo": {
     "elapsed": 898,
     "status": "error",
     "timestamp": 1539421683496,
     "user": {
      "displayName": "Григорий Лелейтнер",
      "photoUrl": "",
      "userId": "07179937308049589303"
     },
     "user_tz": -300
    },
    "id": "LtfFeZk29i-q",
    "outputId": "dfc564e1-68d7-4383-c37d-97514cd2f6df"
   },
   "outputs": [
    {
     "ename": "FileNotFoundError",
     "evalue": "ignored",
     "output_type": "error",
     "traceback": [
      "\u001b[0;31m---------------------------------------------------------------------------\u001b[0m",
      "\u001b[0;31mFileNotFoundError\u001b[0m                         Traceback (most recent call last)",
      "\u001b[0;32m<ipython-input-7-1138af4aea66>\u001b[0m in \u001b[0;36m<module>\u001b[0;34m()\u001b[0m\n\u001b[0;32m----> 1\u001b[0;31m \u001b[0mdata\u001b[0m \u001b[0;34m=\u001b[0m \u001b[0mpd\u001b[0m\u001b[0;34m.\u001b[0m\u001b[0mread_csv\u001b[0m\u001b[0;34m(\u001b[0m\u001b[0;34m\"./data/apples_pears.csv\"\u001b[0m\u001b[0;34m)\u001b[0m\u001b[0;34m\u001b[0m\u001b[0m\n\u001b[0m",
      "\u001b[0;32m/usr/local/lib/python3.6/dist-packages/pandas/io/parsers.py\u001b[0m in \u001b[0;36mparser_f\u001b[0;34m(filepath_or_buffer, sep, delimiter, header, names, index_col, usecols, squeeze, prefix, mangle_dupe_cols, dtype, engine, converters, true_values, false_values, skipinitialspace, skiprows, nrows, na_values, keep_default_na, na_filter, verbose, skip_blank_lines, parse_dates, infer_datetime_format, keep_date_col, date_parser, dayfirst, iterator, chunksize, compression, thousands, decimal, lineterminator, quotechar, quoting, escapechar, comment, encoding, dialect, tupleize_cols, error_bad_lines, warn_bad_lines, skipfooter, skip_footer, doublequote, delim_whitespace, as_recarray, compact_ints, use_unsigned, low_memory, buffer_lines, memory_map, float_precision)\u001b[0m\n\u001b[1;32m    707\u001b[0m                     skip_blank_lines=skip_blank_lines)\n\u001b[1;32m    708\u001b[0m \u001b[0;34m\u001b[0m\u001b[0m\n\u001b[0;32m--> 709\u001b[0;31m         \u001b[0;32mreturn\u001b[0m \u001b[0m_read\u001b[0m\u001b[0;34m(\u001b[0m\u001b[0mfilepath_or_buffer\u001b[0m\u001b[0;34m,\u001b[0m \u001b[0mkwds\u001b[0m\u001b[0;34m)\u001b[0m\u001b[0;34m\u001b[0m\u001b[0m\n\u001b[0m\u001b[1;32m    710\u001b[0m \u001b[0;34m\u001b[0m\u001b[0m\n\u001b[1;32m    711\u001b[0m     \u001b[0mparser_f\u001b[0m\u001b[0;34m.\u001b[0m\u001b[0m__name__\u001b[0m \u001b[0;34m=\u001b[0m \u001b[0mname\u001b[0m\u001b[0;34m\u001b[0m\u001b[0m\n",
      "\u001b[0;32m/usr/local/lib/python3.6/dist-packages/pandas/io/parsers.py\u001b[0m in \u001b[0;36m_read\u001b[0;34m(filepath_or_buffer, kwds)\u001b[0m\n\u001b[1;32m    447\u001b[0m \u001b[0;34m\u001b[0m\u001b[0m\n\u001b[1;32m    448\u001b[0m     \u001b[0;31m# Create the parser.\u001b[0m\u001b[0;34m\u001b[0m\u001b[0;34m\u001b[0m\u001b[0m\n\u001b[0;32m--> 449\u001b[0;31m     \u001b[0mparser\u001b[0m \u001b[0;34m=\u001b[0m \u001b[0mTextFileReader\u001b[0m\u001b[0;34m(\u001b[0m\u001b[0mfilepath_or_buffer\u001b[0m\u001b[0;34m,\u001b[0m \u001b[0;34m**\u001b[0m\u001b[0mkwds\u001b[0m\u001b[0;34m)\u001b[0m\u001b[0;34m\u001b[0m\u001b[0m\n\u001b[0m\u001b[1;32m    450\u001b[0m \u001b[0;34m\u001b[0m\u001b[0m\n\u001b[1;32m    451\u001b[0m     \u001b[0;32mif\u001b[0m \u001b[0mchunksize\u001b[0m \u001b[0;32mor\u001b[0m \u001b[0miterator\u001b[0m\u001b[0;34m:\u001b[0m\u001b[0;34m\u001b[0m\u001b[0m\n",
      "\u001b[0;32m/usr/local/lib/python3.6/dist-packages/pandas/io/parsers.py\u001b[0m in \u001b[0;36m__init__\u001b[0;34m(self, f, engine, **kwds)\u001b[0m\n\u001b[1;32m    816\u001b[0m             \u001b[0mself\u001b[0m\u001b[0;34m.\u001b[0m\u001b[0moptions\u001b[0m\u001b[0;34m[\u001b[0m\u001b[0;34m'has_index_names'\u001b[0m\u001b[0;34m]\u001b[0m \u001b[0;34m=\u001b[0m \u001b[0mkwds\u001b[0m\u001b[0;34m[\u001b[0m\u001b[0;34m'has_index_names'\u001b[0m\u001b[0;34m]\u001b[0m\u001b[0;34m\u001b[0m\u001b[0m\n\u001b[1;32m    817\u001b[0m \u001b[0;34m\u001b[0m\u001b[0m\n\u001b[0;32m--> 818\u001b[0;31m         \u001b[0mself\u001b[0m\u001b[0;34m.\u001b[0m\u001b[0m_make_engine\u001b[0m\u001b[0;34m(\u001b[0m\u001b[0mself\u001b[0m\u001b[0;34m.\u001b[0m\u001b[0mengine\u001b[0m\u001b[0;34m)\u001b[0m\u001b[0;34m\u001b[0m\u001b[0m\n\u001b[0m\u001b[1;32m    819\u001b[0m \u001b[0;34m\u001b[0m\u001b[0m\n\u001b[1;32m    820\u001b[0m     \u001b[0;32mdef\u001b[0m \u001b[0mclose\u001b[0m\u001b[0;34m(\u001b[0m\u001b[0mself\u001b[0m\u001b[0;34m)\u001b[0m\u001b[0;34m:\u001b[0m\u001b[0;34m\u001b[0m\u001b[0m\n",
      "\u001b[0;32m/usr/local/lib/python3.6/dist-packages/pandas/io/parsers.py\u001b[0m in \u001b[0;36m_make_engine\u001b[0;34m(self, engine)\u001b[0m\n\u001b[1;32m   1047\u001b[0m     \u001b[0;32mdef\u001b[0m \u001b[0m_make_engine\u001b[0m\u001b[0;34m(\u001b[0m\u001b[0mself\u001b[0m\u001b[0;34m,\u001b[0m \u001b[0mengine\u001b[0m\u001b[0;34m=\u001b[0m\u001b[0;34m'c'\u001b[0m\u001b[0;34m)\u001b[0m\u001b[0;34m:\u001b[0m\u001b[0;34m\u001b[0m\u001b[0m\n\u001b[1;32m   1048\u001b[0m         \u001b[0;32mif\u001b[0m \u001b[0mengine\u001b[0m \u001b[0;34m==\u001b[0m \u001b[0;34m'c'\u001b[0m\u001b[0;34m:\u001b[0m\u001b[0;34m\u001b[0m\u001b[0m\n\u001b[0;32m-> 1049\u001b[0;31m             \u001b[0mself\u001b[0m\u001b[0;34m.\u001b[0m\u001b[0m_engine\u001b[0m \u001b[0;34m=\u001b[0m \u001b[0mCParserWrapper\u001b[0m\u001b[0;34m(\u001b[0m\u001b[0mself\u001b[0m\u001b[0;34m.\u001b[0m\u001b[0mf\u001b[0m\u001b[0;34m,\u001b[0m \u001b[0;34m**\u001b[0m\u001b[0mself\u001b[0m\u001b[0;34m.\u001b[0m\u001b[0moptions\u001b[0m\u001b[0;34m)\u001b[0m\u001b[0;34m\u001b[0m\u001b[0m\n\u001b[0m\u001b[1;32m   1050\u001b[0m         \u001b[0;32melse\u001b[0m\u001b[0;34m:\u001b[0m\u001b[0;34m\u001b[0m\u001b[0m\n\u001b[1;32m   1051\u001b[0m             \u001b[0;32mif\u001b[0m \u001b[0mengine\u001b[0m \u001b[0;34m==\u001b[0m \u001b[0;34m'python'\u001b[0m\u001b[0;34m:\u001b[0m\u001b[0;34m\u001b[0m\u001b[0m\n",
      "\u001b[0;32m/usr/local/lib/python3.6/dist-packages/pandas/io/parsers.py\u001b[0m in \u001b[0;36m__init__\u001b[0;34m(self, src, **kwds)\u001b[0m\n\u001b[1;32m   1693\u001b[0m         \u001b[0mkwds\u001b[0m\u001b[0;34m[\u001b[0m\u001b[0;34m'allow_leading_cols'\u001b[0m\u001b[0;34m]\u001b[0m \u001b[0;34m=\u001b[0m \u001b[0mself\u001b[0m\u001b[0;34m.\u001b[0m\u001b[0mindex_col\u001b[0m \u001b[0;32mis\u001b[0m \u001b[0;32mnot\u001b[0m \u001b[0;32mFalse\u001b[0m\u001b[0;34m\u001b[0m\u001b[0m\n\u001b[1;32m   1694\u001b[0m \u001b[0;34m\u001b[0m\u001b[0m\n\u001b[0;32m-> 1695\u001b[0;31m         \u001b[0mself\u001b[0m\u001b[0;34m.\u001b[0m\u001b[0m_reader\u001b[0m \u001b[0;34m=\u001b[0m \u001b[0mparsers\u001b[0m\u001b[0;34m.\u001b[0m\u001b[0mTextReader\u001b[0m\u001b[0;34m(\u001b[0m\u001b[0msrc\u001b[0m\u001b[0;34m,\u001b[0m \u001b[0;34m**\u001b[0m\u001b[0mkwds\u001b[0m\u001b[0;34m)\u001b[0m\u001b[0;34m\u001b[0m\u001b[0m\n\u001b[0m\u001b[1;32m   1696\u001b[0m \u001b[0;34m\u001b[0m\u001b[0m\n\u001b[1;32m   1697\u001b[0m         \u001b[0;31m# XXX\u001b[0m\u001b[0;34m\u001b[0m\u001b[0;34m\u001b[0m\u001b[0m\n",
      "\u001b[0;32mpandas/_libs/parsers.pyx\u001b[0m in \u001b[0;36mpandas._libs.parsers.TextReader.__cinit__\u001b[0;34m()\u001b[0m\n",
      "\u001b[0;32mpandas/_libs/parsers.pyx\u001b[0m in \u001b[0;36mpandas._libs.parsers.TextReader._setup_parser_source\u001b[0;34m()\u001b[0m\n",
      "\u001b[0;31mFileNotFoundError\u001b[0m: File b'./data/apples_pears.csv' does not exist"
     ]
    }
   ],
   "source": [
    "data = pd.read_csv(\"./data/apples_pears.csv\")"
   ]
  },
  {
   "cell_type": "code",
   "execution_count": 0,
   "metadata": {
    "colab": {},
    "colab_type": "code",
    "collapsed": true,
    "id": "ZkBYnuPy9i-t"
   },
   "outputs": [],
   "source": [
    "data.head()"
   ]
  },
  {
   "cell_type": "code",
   "execution_count": 0,
   "metadata": {
    "colab": {},
    "colab_type": "code",
    "collapsed": true,
    "id": "9J08Y-QH9i-w"
   },
   "outputs": [],
   "source": [
    "plt.figure(figsize=(10, 8))\n",
    "plt.scatter(data.iloc[:, 0], data.iloc[:, 1], c=data['target'], cmap='rainbow')\n",
    "plt.title('Яблоки и груши', fontsize=15)\n",
    "plt.xlabel('симметричность', fontsize=14)\n",
    "plt.ylabel('желтизна', fontsize=14)\n",
    "plt.show();"
   ]
  },
  {
   "cell_type": "markdown",
   "metadata": {
    "colab_type": "text",
    "id": "_UU0DV4Y9i-0"
   },
   "source": [
    "**Вопрос:** Какой класс соответствует яблокам (какого они цвета на графике)?"
   ]
  },
  {
   "cell_type": "markdown",
   "metadata": {
    "colab_type": "text",
    "id": "A05RzCXu9i-0"
   },
   "source": [
    "**Ответ:** Красного"
   ]
  },
  {
   "cell_type": "markdown",
   "metadata": {
    "colab_type": "text",
    "id": "68NpBtt69i-0"
   },
   "source": [
    "Обозначим, что здесь признаки, а что - классы:"
   ]
  },
  {
   "cell_type": "code",
   "execution_count": 0,
   "metadata": {
    "colab": {},
    "colab_type": "code",
    "collapsed": true,
    "id": "y9Sb00gD9i-1"
   },
   "outputs": [],
   "source": [
    "X = data.iloc[:,:2].values  # матрица объекты-признаки\n",
    "y = data['target'].values.reshape((-1, 1))  # классы (столбец из нулей и единиц)"
   ]
  },
  {
   "cell_type": "markdown",
   "metadata": {
    "colab_type": "text",
    "id": "gO3jpjcA9i-3"
   },
   "source": [
    "**Вывод функции потерь**  \n",
    "Функция потерь должна убывать и в итоге стать близкой к 0"
   ]
  },
  {
   "cell_type": "code",
   "execution_count": 0,
   "metadata": {
    "colab": {},
    "colab_type": "code",
    "collapsed": true,
    "id": "rNIKCrhw9i-4"
   },
   "outputs": [],
   "source": [
    "%%time\n",
    "perceptron = Perceptron()\n",
    "losses = perceptron.fit(X, y)\n",
    "\n",
    "plt.figure(figsize=(10, 8))\n",
    "plt.plot(losses)\n",
    "plt.title('Функция потерь', fontsize=15)\n",
    "plt.xlabel('номер итерации', fontsize=14)\n",
    "plt.ylabel('$Loss(\\hat{y}, y)$', fontsize=14)\n",
    "plt.show()"
   ]
  },
  {
   "cell_type": "markdown",
   "metadata": {
    "colab_type": "text",
    "id": "OMl_4N3e9i-8"
   },
   "source": [
    "Посмотрим, как перцептрон классифицировал объекты из выборки:"
   ]
  },
  {
   "cell_type": "code",
   "execution_count": 0,
   "metadata": {
    "colab": {},
    "colab_type": "code",
    "collapsed": true,
    "id": "dsv2k2u09i-8"
   },
   "outputs": [],
   "source": [
    "plt.figure(figsize=(10, 8))\n",
    "plt.scatter(data.iloc[:, 0], data.iloc[:, 1], c=perceptron.forward_pass(X).ravel(), cmap='spring')\n",
    "plt.title('Яблоки и груши', fontsize=15)\n",
    "plt.xlabel('симметричность', fontsize=14)\n",
    "plt.ylabel('желтизна', fontsize=14)\n",
    "plt.show();"
   ]
  },
  {
   "cell_type": "markdown",
   "metadata": {
    "colab_type": "text",
    "id": "HepYxgys9i-_"
   },
   "source": [
    "<h3 style=\"text-align: center;\"><b>Предсказание пола по голосу</b></h3>"
   ]
  },
  {
   "cell_type": "markdown",
   "metadata": {
    "colab_type": "text",
    "id": "Fhq4QxbQ9i-_"
   },
   "source": [
    "В этой задаче нужно сравнить качество работы Вашего перцептрона и алгоритма из библиотеки `sklearn` на датасете с сайта [Kaggle](https://www.kaggle.com) - [Gender Recognition by Voice](https://www.kaggle.com/primaryobjects/voicegender). В данном датасете в качестве признаков выступают различные звуковые характеристики голоса, а в качестве классов - пол (мужчина/женщина). Подробнее о самих признаках можно почитать [на странице датасета](https://www.kaggle.com/primaryobjects/voicegender) (на английском). Нашей целью пока что является просто протестировать на этих данных два алгоритма."
   ]
  },
  {
   "cell_type": "markdown",
   "metadata": {
    "colab_type": "text",
    "id": "9yd2X38P9i-_"
   },
   "source": [
    "**! Обратите внимание на имя функции из sklearn - skPerceptron** (это сделано, чтобы не совпадало с именем Вашего класса)"
   ]
  },
  {
   "cell_type": "code",
   "execution_count": 0,
   "metadata": {
    "colab": {},
    "colab_type": "code",
    "collapsed": true,
    "id": "0Jbr5NqK9i_A"
   },
   "outputs": [],
   "source": [
    "import pandas as pd\n",
    "from sklearn.linear_model import Perceptron as skPerceptron\n",
    "from sklearn.metrics import accuracy_score"
   ]
  },
  {
   "cell_type": "code",
   "execution_count": 0,
   "metadata": {
    "colab": {},
    "colab_type": "code",
    "collapsed": true,
    "id": "wcvHxgzX9i_C"
   },
   "outputs": [],
   "source": [
    "data_path = './data/voice.csv'\n",
    "data = pd.read_csv(data_path)\n",
    "data['label'] = data['label'].apply(lambda x: 1 if x == 'male' else 0)"
   ]
  },
  {
   "cell_type": "code",
   "execution_count": 0,
   "metadata": {
    "colab": {},
    "colab_type": "code",
    "collapsed": true,
    "id": "PpkKx4MH9i_E"
   },
   "outputs": [],
   "source": [
    "data.head()"
   ]
  },
  {
   "cell_type": "code",
   "execution_count": 0,
   "metadata": {
    "colab": {},
    "colab_type": "code",
    "collapsed": true,
    "id": "hMXlPhdR9i_N"
   },
   "outputs": [],
   "source": [
    "# Чтобы перемешать данные. Изначально там сначала идут все мужчины, потом все женщины\n",
    "data = data.sample(frac=1)"
   ]
  },
  {
   "cell_type": "code",
   "execution_count": 0,
   "metadata": {
    "colab": {},
    "colab_type": "code",
    "collapsed": true,
    "id": "WMbF_fCa9i_Q"
   },
   "outputs": [],
   "source": [
    "X_train = data.iloc[:int(len(data)*0.7), :-1]  # матрица объекты-признаки\n",
    "y_train = data.iloc[:int(len(data)*0.7), -1]  # истинные значения пола (мужчина/женщина)\n",
    "\n",
    "X_test = data.iloc[int(len(data)*0.7):, :-1]  # матрица объекты-признаки\n",
    "y_test = data.iloc[int(len(data)*0.7):, -1]  # истинные значения пола (мужчина/женщина)"
   ]
  },
  {
   "cell_type": "markdown",
   "metadata": {
    "colab_type": "text",
    "id": "hhnjxW2-9i_R"
   },
   "source": [
    "Тут нужно натренировать Ваш перцептрон и перцептрон из `sklearn` на этих данных:"
   ]
  },
  {
   "cell_type": "code",
   "execution_count": 0,
   "metadata": {
    "colab": {},
    "colab_type": "code",
    "collapsed": true,
    "id": "kuAIFdKx9i_S"
   },
   "outputs": [],
   "source": [
    "perceptron = Perceptron()\n",
    "perceptron.fit(X_train.values, y_train.values)\n",
    "\n",
    "sk_perceptron = skPerceptron()\n",
    "sk_perceptron.fit(X_train.values, y_train.values)"
   ]
  },
  {
   "cell_type": "markdown",
   "metadata": {
    "colab_type": "text",
    "id": "q4Z3KlIl9i_V"
   },
   "source": [
    "Сравним доли правильных ответов (на тестовых данных):"
   ]
  },
  {
   "cell_type": "code",
   "execution_count": 0,
   "metadata": {
    "colab": {},
    "colab_type": "code",
    "collapsed": true,
    "id": "MkWc2UtP9i_W"
   },
   "outputs": [],
   "source": [
    "print('Точность (доля правильных ответов, из 100%) моего перцептрона: {:.1f} %'\n",
    "      .format(accuracy_score(y_test, perceptron.forward_pass(X_test)) * 100))\n",
    "print('Точность (доля правильных ответов) перцептрона из sklearn: {:.1f} %'\n",
    "      .format(accuracy_score(y_test, sk_perceptron.predict(X_test)) * 100))"
   ]
  },
  {
   "cell_type": "markdown",
   "metadata": {
    "colab_type": "text",
    "id": "ASDZawbW9i_Z"
   },
   "source": [
    "**ОБЯЗАТЕЛЬНЫЙ вопрос:** Хорошее ли качество показывает перцептрон? Как Вы думаете, почему? Можете писать любые мысли на этот счёт."
   ]
  },
  {
   "cell_type": "markdown",
   "metadata": {
    "colab_type": "text",
    "id": "G2EJc-hK9i_a"
   },
   "source": [
    "**Ответ:** Не очень хорошее, потому что, судя по всему, зависимость метки от признаков нелинейная."
   ]
  },
  {
   "cell_type": "markdown",
   "metadata": {
    "colab_type": "text",
    "id": "lXxi17_e9i_a"
   },
   "source": [
    "<h2 style=\"text-align: center;\"><b>Нейрон с различными функциями активации</b></h2>"
   ]
  },
  {
   "cell_type": "markdown",
   "metadata": {
    "colab_type": "text",
    "id": "ATVkJLXp9i_c"
   },
   "source": [
    "Напомним, что сигмоидальная функция (сигмоида) выглядит так:  \n",
    "    \n",
    "$$\\sigma(x)=\\frac{1}{1+e^{-x}}$$"
   ]
  },
  {
   "cell_type": "markdown",
   "metadata": {
    "colab_type": "text",
    "id": "bnQb9i619i_c"
   },
   "source": [
    "В данном случае мы снова решаем задачу бинарной классификации (2 класса: 1 или 0), но здесь уже будет другая функция активации:\n",
    "$$Loss(\\hat{y}, y) = \\frac{1}{2n}\\sum_{i=1}^{n} (\\hat{y_i} - y_i)^2 = \\frac{1}{2n}\\sum_{i=1}^{n} (\\sigma(w \\cdot X_i) - y_i)^2$$  \n",
    "Здесь $w \\cdot X_i$ - скалярное произведение, а $\\sigma(w \\cdot X_i) =\\frac{1}{1+e^{-w \\cdot X_i}} $ - сигмоида.  \n",
    "\n",
    "**Примечание:** В формуле предполагается, что $b$ - свободный член - является частью вектора весов: $w_0$. Тогда, если к $X$ приписать слева единичный столбец, в скалярном произведении $b$ будет именно как свободный член (лучше распиишите это -- сте=анет понятнее). При реализации класса $b$ нужно считать отдельно (чтобы было нагляднее)."
   ]
  },
  {
   "cell_type": "markdown",
   "metadata": {
    "colab_type": "text",
    "id": "w46AyfrC9i_d"
   },
   "source": [
    "Формула для обновления весов при градиентном спуске будет такая:"
   ]
  },
  {
   "cell_type": "markdown",
   "metadata": {
    "colab_type": "text",
    "id": "CxltXg7H9i_d"
   },
   "source": [
    "$$ \\frac{\\partial Loss}{\\partial w} = \\frac{1}{n} X^T (\\sigma(w \\cdot X) - y)\\sigma(w \\cdot X)(1 - \\sigma(w \\cdot X))$$"
   ]
  },
  {
   "cell_type": "markdown",
   "metadata": {
    "colab_type": "text",
    "id": "YjagNMyO9i_d"
   },
   "source": [
    "Реализуйте сигмоиду и её производную:"
   ]
  },
  {
   "cell_type": "code",
   "execution_count": 0,
   "metadata": {
    "colab": {},
    "colab_type": "code",
    "collapsed": true,
    "id": "EKkpHD_k9i_e"
   },
   "outputs": [],
   "source": [
    "def sigmoid(x):\n",
    "    \"\"\"Сигмоидальная функция\"\"\"\n",
    "    return 1 / (1 + np.exp(-x))"
   ]
  },
  {
   "cell_type": "code",
   "execution_count": 0,
   "metadata": {
    "colab": {},
    "colab_type": "code",
    "collapsed": true,
    "id": "S3V5xryB9i_g"
   },
   "outputs": [],
   "source": [
    "def sigmoid_derivative(x):\n",
    "    \"\"\"Производная сигмоиды\"\"\"\n",
    "    return sigmoid(x) * (1 - sigmoid(x))"
   ]
  },
  {
   "cell_type": "markdown",
   "metadata": {
    "colab_type": "text",
    "id": "UMJYeujp9i_h"
   },
   "source": [
    "Теперь нужно написать нейрон с сигмоидной функцией активации. Здесь всё очень похоже на перцептрон, но будут по-другому обновляться веса и другая функция активации:"
   ]
  },
  {
   "cell_type": "code",
   "execution_count": 0,
   "metadata": {
    "colab": {},
    "colab_type": "code",
    "collapsed": true,
    "id": "06LN5PS79i_i"
   },
   "outputs": [],
   "source": [
    "class Neuron:\n",
    "    def __init__(self, w=None, b=0):\n",
    "        \"\"\"\n",
    "        :param: w -- вектор весов\n",
    "        :param: b -- смещение\n",
    "        \"\"\"\n",
    "        # Пока что мы не знаем размер матрицы X, а значит не знаем, сколько будет весов\n",
    "        self.w = w\n",
    "        self.b = b\n",
    "\n",
    "    def activate(self, x):\n",
    "        return sigmoid(x)\n",
    "        \n",
    "    def forward_pass(self, X):\n",
    "        \"\"\"\n",
    "        Рассчитывает ответ перцептрона при предъявлении набора объектов\n",
    "        :param: X -- матрица примеров размера (n, m), каждая строка - отдельный объект\n",
    "        :return: вектор размера (n, 1) из нулей и единиц с ответами перцептрона \n",
    "        \"\"\"\n",
    "        n = X.shape[0]\n",
    "        y_pred = np.zeros((n, 1))  # y_pred == y_predicted - предсказанные классы\n",
    "        y_pred = self.activate(X @ self.w.reshape(X.shape[1], 1) + self.b)\n",
    "        return y_pred.reshape(-1, 1)\n",
    "    \n",
    "    def backward_pass(self, X, y, y_pred, learning_rate=0.1):\n",
    "        \"\"\"\n",
    "        Обновляет значения весов перцептрона в соответствии с этим объектом\n",
    "        :param: X -- матрица входов размера (n, m)\n",
    "                y -- вектор правильных ответов размера (n, 1)\n",
    "                learning_rate - \"скорость обучения\" (символ alpha в формулах выше)\n",
    "        В этом методе ничего возвращать не нужно, только правильно поменять веса\n",
    "        с помощью градиентного спуска.\n",
    "        \"\"\"\n",
    "        n = len(y)\n",
    "        y = np.array(y).reshape(-1, 1)\n",
    "        sigma = self.activate(X @ self.w + self.b)\n",
    "        self.w = self.w - learning_rate * (X.T @ ((sigma - y) * sigma * (1 - sigma))) / n\n",
    "        self.b = self.b - learning_rate * np.mean((sigma - y) * sigma * (1 - sigma))\n",
    "    \n",
    "    def fit(self, X, y, num_epochs=5000):\n",
    "        \"\"\"\n",
    "        Спускаемся в минимум\n",
    "        :param: X -- матрица объектов размера (n, m)\n",
    "                y -- вектор правильных ответов размера (n, 1)\n",
    "                num_epochs -- количество итераций обучения\n",
    "        :return: Loss_values -- вектор значений функции потерь\n",
    "        \"\"\"\n",
    "        self.w = np.zeros((X.shape[1], 1))  # столбец (m, 1)\n",
    "        self.b = 0  # смещение\n",
    "        Loss_values = []  # значения функции потерь на различных итерациях обновления весов\n",
    "        \n",
    "        for i in range(num_epochs):\n",
    "            # предсказания с текущими весами\n",
    "            y_pred = self.forward_pass(X)\n",
    "            # считаем функцию потерь с текущими весами\n",
    "            Loss_values.append(Loss(y_pred, y))\n",
    "            # обновляем веса в соответсвие с тем, где ошиблись раньше\n",
    "            self.backward_pass(X, y, y_pred)\n",
    "        \n",
    "        return Loss_values"
   ]
  },
  {
   "cell_type": "markdown",
   "metadata": {
    "colab_type": "text",
    "id": "kYevHjQE9i_k"
   },
   "source": [
    "**Тестирование нейрона**"
   ]
  },
  {
   "cell_type": "markdown",
   "metadata": {
    "colab_type": "text",
    "id": "oiXg900-9i_m"
   },
   "source": [
    "Здесь Вам нужно самим протестировать новый нейрон **на тех же данных** по аналогии с тем, как это было проделано с перцептроном  (можете смело копировать код, только будьте осторожны - кое-что в нём всё же скорее всего придётся поправить).\n",
    "В итоге нужно вывести: \n",
    "* график, на котором будет показано, как изменяется функция потерь $Loss$ в зависимости от числа итераций обучения\n",
    "* график с раскраской выборки сигмоидальным нейроном"
   ]
  },
  {
   "cell_type": "markdown",
   "metadata": {
    "colab_type": "text",
    "id": "NgXCHG_P9i_n"
   },
   "source": [
    "**Проверка forward_pass()**"
   ]
  },
  {
   "cell_type": "code",
   "execution_count": 0,
   "metadata": {
    "colab": {},
    "colab_type": "code",
    "collapsed": true,
    "id": "BcrKIaLb9i_n"
   },
   "outputs": [],
   "source": [
    "w = np.array([1., 2.]).reshape(2, 1)\n",
    "b = 2.\n",
    "X = np.array([[1., 3.],\n",
    "              [2., 4.],\n",
    "              [-1., -3.2]])\n",
    "\n",
    "neuron = Neuron(w, b)\n",
    "y_pred = neuron.forward_pass(X)\n",
    "print (\"y_pred = \" + str(y_pred))"
   ]
  },
  {
   "cell_type": "markdown",
   "metadata": {
    "colab_type": "text",
    "id": "wbKxf06y9i_s"
   },
   "source": [
    "|Должно быть||\n",
    "|------|-------|\n",
    "|**y_pred**|[0.99987661, 0.99999386,0.00449627]|"
   ]
  },
  {
   "cell_type": "markdown",
   "metadata": {
    "colab_type": "text",
    "id": "pw9aByzb9i_t"
   },
   "source": [
    "**Проверка backward_pass()**"
   ]
  },
  {
   "cell_type": "code",
   "execution_count": 0,
   "metadata": {
    "colab": {},
    "colab_type": "code",
    "collapsed": true,
    "id": "yJKVJCsB9i_t"
   },
   "outputs": [],
   "source": [
    "y = np.array([1, 0, 1]).reshape(3, 1)"
   ]
  },
  {
   "cell_type": "code",
   "execution_count": 0,
   "metadata": {
    "colab": {},
    "colab_type": "code",
    "collapsed": true,
    "id": "WCc5c44a9i_u"
   },
   "outputs": [],
   "source": [
    "neuron.backward_pass(X, y, y_pred)\n",
    "\n",
    "print (\"w = \" + str(neuron.w))\n",
    "print (\"b = \" + str(neuron.b))"
   ]
  },
  {
   "cell_type": "markdown",
   "metadata": {
    "colab_type": "text",
    "id": "BKSykEpu39mv"
   },
   "source": [
    "|Должно быть||\n",
    "|------|-------|\n",
    "|**w**|[0.99985106, 1.99952388]|\n",
    "|**b**|2.000148326741343|"
   ]
  },
  {
   "cell_type": "markdown",
   "metadata": {
    "colab_type": "text",
    "id": "WWIHm_PP39mx"
   },
   "source": [
    "Посмотрим, как меняется функция потерь в течение процесса обучения на реальных данных - датасет \"Яблоки и Груши\":"
   ]
  },
  {
   "cell_type": "code",
   "execution_count": 0,
   "metadata": {
    "colab": {},
    "colab_type": "code",
    "collapsed": true,
    "id": "7PIOizom9i_w"
   },
   "outputs": [],
   "source": [
    "data = pd.read_csv(\"./data/apples_pears.csv\")"
   ]
  },
  {
   "cell_type": "code",
   "execution_count": 0,
   "metadata": {
    "colab": {},
    "colab_type": "code",
    "collapsed": true,
    "id": "MHzVksit9i_y"
   },
   "outputs": [],
   "source": [
    "data.head()"
   ]
  },
  {
   "cell_type": "code",
   "execution_count": 0,
   "metadata": {
    "colab": {},
    "colab_type": "code",
    "collapsed": true,
    "id": "1RsB6C1w9i_0"
   },
   "outputs": [],
   "source": [
    "plt.figure(figsize=(10, 8))\n",
    "plt.scatter(data.iloc[:, 0], data.iloc[:, 1], c=data['target'], cmap='rainbow')\n",
    "plt.title('Яблоки и груши', fontsize=15)\n",
    "plt.xlabel('симметричность', fontsize=14)\n",
    "plt.ylabel('желтизна', fontsize=14)\n",
    "plt.show();"
   ]
  },
  {
   "cell_type": "markdown",
   "metadata": {
    "colab_type": "text",
    "id": "oLdRWfRD9i_3"
   },
   "source": [
    "Обозначим, что здесь признаки, а что - классы:"
   ]
  },
  {
   "cell_type": "code",
   "execution_count": 0,
   "metadata": {
    "colab": {},
    "colab_type": "code",
    "collapsed": true,
    "id": "1yrSFfII9i_3"
   },
   "outputs": [],
   "source": [
    "X = data.iloc[:,:2].values  # матрица объекты-признаки\n",
    "y = data['target'].values.reshape((-1, 1))  # классы (столбец из нулей и единиц)"
   ]
  },
  {
   "cell_type": "markdown",
   "metadata": {
    "colab_type": "text",
    "id": "8W6RmOJT9i_5"
   },
   "source": [
    "**Вывод функции потерь**  \n",
    "Функция потерь должна убывать и в итоге стать близкой к 0"
   ]
  },
  {
   "cell_type": "code",
   "execution_count": 0,
   "metadata": {
    "colab": {},
    "colab_type": "code",
    "collapsed": true,
    "id": "6N-LhHXb9i_5"
   },
   "outputs": [],
   "source": [
    "%%time\n",
    "\n",
    "neuron = Neuron()\n",
    "Loss_values = neuron.fit(X, y)\n",
    "\n",
    "plt.figure(figsize=(10, 8))\n",
    "plt.plot(Loss_values)\n",
    "plt.title('Функция потерь', fontsize=15)\n",
    "plt.xlabel('номер итерации', fontsize=14)\n",
    "plt.ylabel('$Loss(\\hat{y}, y)$', fontsize=14)\n",
    "plt.show()"
   ]
  },
  {
   "cell_type": "markdown",
   "metadata": {
    "colab_type": "text",
    "id": "d6vluBuL9i_-"
   },
   "source": [
    "Посмотрим, как перцептрон классифицировал объекты из выборки:"
   ]
  },
  {
   "cell_type": "code",
   "execution_count": 0,
   "metadata": {
    "colab": {},
    "colab_type": "code",
    "collapsed": true,
    "id": "DI1TqgsE9i_-"
   },
   "outputs": [],
   "source": [
    "plt.figure(figsize=(10, 8))\n",
    "plt.scatter(data.iloc[:, 0], data.iloc[:, 1], c=np.array(neuron.forward_pass(X) > 0.5).ravel(), cmap='spring')\n",
    "plt.title('Яблоки и груши', fontsize=15)\n",
    "plt.xlabel('симметричность', fontsize=14)\n",
    "plt.ylabel('желтизна', fontsize=14)\n",
    "plt.show();"
   ]
  },
  {
   "cell_type": "markdown",
   "metadata": {
    "colab_type": "text",
    "id": "B1HWkCbQ39nL"
   },
   "source": [
    "На самом деле то, что вы здесь наблюдаете (плохое качетсво разделения) -- последствие **затухающих градиентов (vanishing gradients)**. Мы позже ещё поговорим об этом (то есть о том почему эт опроисходит в данном случае).\n",
    "\n",
    "Попробуем увеличить количество итераций градиентного спуска (50k итераций):"
   ]
  },
  {
   "cell_type": "code",
   "execution_count": 0,
   "metadata": {
    "colab": {},
    "colab_type": "code",
    "collapsed": true,
    "id": "jfmaMG1X39nN"
   },
   "outputs": [],
   "source": [
    "%%time\n",
    "\n",
    "neuron = Neuron()\n",
    "Loss_values = neuron.fit(X, y, num_epochs=50000)\n",
    "\n",
    "plt.figure(figsize=(10, 8))\n",
    "plt.scatter(data.iloc[:, 0], data.iloc[:, 1], c=np.array(neuron.forward_pass(X) > 0.5).ravel(), cmap='spring')\n",
    "plt.title('Яблоки и груши', fontsize=15)\n",
    "plt.xlabel('симметричность', fontsize=14)\n",
    "plt.ylabel('желтизна', fontsize=14)\n",
    "plt.show();"
   ]
  },
  {
   "cell_type": "markdown",
   "metadata": {
    "colab_type": "text",
    "id": "gJBRZxea39nT"
   },
   "source": [
    "Что ж, стало лучше. Градиенты \"текут\" медленно, но верно."
   ]
  },
  {
   "cell_type": "markdown",
   "metadata": {
    "colab_type": "text",
    "id": "idrBLrRU39nU"
   },
   "source": [
    "В домашнем задании вам нужно будет реализовать класс Neuron() с другими функциями активации: ReLu, LeakyReLU, ELU, SeLU, Swish (какими-то из них)."
   ]
  },
  {
   "cell_type": "markdown",
   "metadata": {
    "colab_type": "text",
    "id": "zoU3iRmV9jAB"
   },
   "source": [
    "### Задача 2. Нейрон с ReLU"
   ]
  },
  {
   "cell_type": "code",
   "execution_count": 0,
   "metadata": {
    "colab": {},
    "colab_type": "code",
    "collapsed": true,
    "id": "ylVJKV4s9jAB"
   },
   "outputs": [],
   "source": [
    "# TODO"
   ]
  },
  {
   "cell_type": "markdown",
   "metadata": {
    "colab_type": "text",
    "id": "UcZXkrFy9jAC"
   },
   "source": [
    "### Задача 3. Нейрон с LeackyReLU"
   ]
  },
  {
   "cell_type": "code",
   "execution_count": 0,
   "metadata": {
    "colab": {},
    "colab_type": "code",
    "collapsed": true,
    "id": "tQBBpiTc9jAE"
   },
   "outputs": [],
   "source": [
    "# TODO"
   ]
  },
  {
   "cell_type": "markdown",
   "metadata": {
    "colab_type": "text",
    "id": "MQtbKUB69jAF"
   },
   "source": [
    "### Задача 4. Нейрон с ELU"
   ]
  },
  {
   "cell_type": "code",
   "execution_count": 0,
   "metadata": {
    "colab": {},
    "colab_type": "code",
    "collapsed": true,
    "id": "RMN7bG9n9jAF"
   },
   "outputs": [],
   "source": [
    "# TODO"
   ]
  },
  {
   "cell_type": "markdown",
   "metadata": {
    "colab_type": "text",
    "id": "2KkEFqF339n6"
   },
   "source": [
    "<h3 style=\"text-align: center;\"><b>Полезные ссылки</b></h3>\n",
    "\n",
    "0). Обязательно прочитайте (если вам повзоляет английский) эту статью от Стэнфорда: http://cs231n.github.io/neural-networks-1/\n",
    "\n",
    "1). Хорошая статья про функции активации: https://www.jeremyjordan.me/neural-networks-activation-functions/\n",
    "\n",
    "2). [Видео от Siraj Raval](https://www.youtube.com/watch?v=-7scQpJT7uo)\n",
    "\n",
    "3). Современная статья про функции активации. Теперь на хайпе активация $swish(x) = x\\sigma (\\beta x)$: https://arxiv.org/pdf/1710.05941.pdf (кстати, при её поиске в некоторой степени использовался neural architecture search)\n",
    "\n",
    "4). SeLU имеет очень интересные, доказанные с помощью теории вероятностей свойства: https://arxiv.org/pdf/1706.02515.pdf (да, в этой статье 102 страницы)"
   ]
  },
  {
   "cell_type": "code",
   "execution_count": 0,
   "metadata": {
    "colab": {},
    "colab_type": "code",
    "collapsed": true,
    "id": "V4swDJ5DPHCz"
   },
   "outputs": [],
   "source": []
  }
 ],
 "metadata": {
  "colab": {
   "collapsed_sections": [
    "zoU3iRmV9jAB",
    "UcZXkrFy9jAC",
    "MQtbKUB69jAF"
   ],
   "name": "[sem_solution]perceptron_neuron.ipynb",
   "provenance": [],
   "version": "0.3.2"
  },
  "hide_input": false,
  "kernelspec": {
   "display_name": "Python 3",
   "language": "python",
   "name": "python3"
  },
  "language_info": {
   "codemirror_mode": {
    "name": "ipython",
    "version": 3
   },
   "file_extension": ".py",
   "mimetype": "text/x-python",
   "name": "python",
   "nbconvert_exporter": "python",
   "pygments_lexer": "ipython3",
   "version": "3.6.3"
  },
  "varInspector": {
   "cols": {
    "lenName": 16,
    "lenType": 16,
    "lenVar": 40
   },
   "kernels_config": {
    "python": {
     "delete_cmd_postfix": "",
     "delete_cmd_prefix": "del ",
     "library": "var_list.py",
     "varRefreshCmd": "print(var_dic_list())"
    },
    "r": {
     "delete_cmd_postfix": ") ",
     "delete_cmd_prefix": "rm(",
     "library": "var_list.r",
     "varRefreshCmd": "cat(var_dic_list()) "
    }
   },
   "types_to_exclude": [
    "module",
    "function",
    "builtin_function_or_method",
    "instance",
    "_Feature"
   ],
   "window_display": false
  }
 },
 "nbformat": 4,
 "nbformat_minor": 1
}
